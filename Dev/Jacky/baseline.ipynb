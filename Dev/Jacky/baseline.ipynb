{
 "cells": [
  {
   "cell_type": "code",
   "execution_count": 2,
   "metadata": {
    "collapsed": true
   },
   "outputs": [],
   "source": [
    "#Import libraries\n",
    "import csv\n",
    "from datetime import datetime\n",
    "import pandas as pd\n",
    "import numpy as np\n",
    "import matplotlib.pyplot as plt\n",
    "from sklearn import preprocessing\n",
    "from sklearn.preprocessing import StandardScaler\n",
    "from sklearn.neighbors import KNeighborsClassifier\n",
    "from sklearn.ensemble import RandomForestClassifier\n",
    "from sklearn.metrics import log_loss"
   ]
  },
  {
   "cell_type": "code",
   "execution_count": 3,
   "metadata": {
    "collapsed": false
   },
   "outputs": [],
   "source": [
    "crime = pd.read_csv(\"../../data/train.csv\")"
   ]
  },
  {
   "cell_type": "code",
   "execution_count": 4,
   "metadata": {
    "collapsed": false
   },
   "outputs": [],
   "source": [
    "# Set the randomizer seed so results are the same each time.\n",
    "np.random.seed(0)\n",
    "\n",
    "#Recode weekday variable\n",
    "weekday_mapping =  {'Monday': 1,\n",
    "                    'Tuesday': 2,\n",
    "                    'Wednesday': 3,\n",
    "                    'Thursday': 4,\n",
    "                    'Friday': 5,\n",
    "                    'Saturday': 6,\n",
    "                    'Sunday': 7}\n",
    "crime['DayOfWeek']=crime['DayOfWeek'].map(weekday_mapping)\n",
    "\n",
    "#Recode PdDistrict variable\n",
    "enc = preprocessing.LabelEncoder()\n",
    "district = enc.fit_transform(crime.PdDistrict)\n",
    "crime['District'] = district\n",
    "\n",
    "#Scale the coordinates variables\n",
    "#stdsc = StandardScaler()\n",
    "#crime['X_stdsc'] = stdsc.fit_transform(crime['X'])\n",
    "#crime['Y_stdsc'] = stdsc.fit_transform(crime['Y'])\n",
    "\n",
    "\n",
    "#Extract date and time information from 'Dates' variable\n",
    "crime['Dates'] = pd.to_datetime(crime['Dates'])\n",
    "crime['Year'] = crime['Dates'].dt.year\n",
    "crime['Month'] = crime['Dates'].dt.month\n",
    "crime['Day'] = crime['Dates'].dt.day\n",
    "crime['Hour'] = crime['Dates'].dt.hour\n",
    "crime['Minute'] = crime['Dates'].dt.minute\n",
    "\n",
    "\n",
    "#Shuffle data\n",
    "crime = crime.reindex(np.random.permutation(crime.index))"
   ]
  },
  {
   "cell_type": "code",
   "execution_count": 5,
   "metadata": {
    "collapsed": false
   },
   "outputs": [
    {
     "name": "stdout",
     "output_type": "stream",
     "text": [
      "Accuracy:  0.249534362002\n",
      "Log loss:  12.9395479919\n"
     ]
    }
   ],
   "source": [
    "def baseline():\n",
    "    #Only use the coordinates in this naive baseline model\n",
    "    X = crime[['X','Y']]\n",
    "    Y = crime.Category\n",
    "\n",
    "    test_data, test_labels = X[710000:], Y[710000:]\n",
    "    dev_data, dev_labels = X[700000:710000], Y[700000:710000]\n",
    "    train_data, train_labels = X[:700000], Y[:700000]\n",
    "    \n",
    "    knn = KNeighborsClassifier(n_neighbors=10)\n",
    "    knn.fit(train_data, train_labels)\n",
    "    knn_prob = knn.predict_proba(test_data)\n",
    "    \n",
    "    test_labels_long = pd.get_dummies(test_labels)\n",
    "    test_labels_long = pd.DataFrame.as_matrix(test_labels_long)\n",
    "    logloss = log_loss(test_labels_long, knn_prob) \n",
    "    \n",
    "    print ('Accuracy: ', knn.score(test_data,test_labels))\n",
    "    print ('Log loss: ', logloss)    \n",
    "\n",
    "baseline()"
   ]
  }
 ],
 "metadata": {
  "kernelspec": {
   "display_name": "Python 3",
   "language": "python",
   "name": "python3"
  },
  "language_info": {
   "codemirror_mode": {
    "name": "ipython",
    "version": 3
   },
   "file_extension": ".py",
   "mimetype": "text/x-python",
   "name": "python",
   "nbconvert_exporter": "python",
   "pygments_lexer": "ipython3",
   "version": "3.5.1"
  }
 },
 "nbformat": 4,
 "nbformat_minor": 0
}
