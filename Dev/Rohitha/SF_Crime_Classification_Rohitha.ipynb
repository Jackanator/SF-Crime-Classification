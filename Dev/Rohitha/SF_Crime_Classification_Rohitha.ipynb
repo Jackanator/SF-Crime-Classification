{
 "cells": [
  {
   "cell_type": "markdown",
   "metadata": {},
   "source": [
    "SF Crime Classification\n",
    "\n",
    "\n",
    "Project Setup\n",
    "\n",
    "Kaggle SF Crime problem: https://www.kaggle.com/c/sf-crime\n",
    "Includes some data exploration, models and analysis\n",
    "\n"
   ]
  },
  {
   "cell_type": "code",
   "execution_count": 2,
   "metadata": {
    "collapsed": true
   },
   "outputs": [],
   "source": [
    "# This tells matplotlib not to try opening a new window for each plot.\n",
    "%matplotlib inline\n",
    "\n",
    "# General libraries.\n",
    "import re\n",
    "import numpy as np\n",
    "import matplotlib.pyplot as plt\n",
    "import pandas as pd\n",
    "\n",
    "# SK-learn libraries for learning.\n",
    "from sklearn.pipeline import Pipeline\n",
    "from sklearn.neighbors import KNeighborsClassifier\n",
    "from sklearn.linear_model import LogisticRegression\n",
    "from sklearn.naive_bayes import BernoulliNB\n",
    "from sklearn.naive_bayes import MultinomialNB\n",
    "from sklearn.grid_search import GridSearchCV\n",
    "from sklearn.preprocessing import LabelEncoder, scale\n",
    "from sklearn.ensemble import RandomForestClassifier\n",
    "from sklearn.ensemble import GradientBoostingClassifier\n",
    "\n",
    "# SK-learn libraries for evaluation.\n",
    "from sklearn.metrics import confusion_matrix\n",
    "from sklearn import metrics\n",
    "from sklearn.metrics import classification_report\n",
    "\n",
    "# SK-learn library for importing the newsgroup data.\n",
    "#from sklearn.datasets import fetch_20newsgroups\n",
    "\n",
    "# SK-learn libraries for feature extraction from text.\n",
    "from sklearn.feature_extraction.text import *\n"
   ]
  },
  {
   "cell_type": "code",
   "execution_count": 3,
   "metadata": {
    "collapsed": false
   },
   "outputs": [
    {
     "name": "stdout",
     "output_type": "stream",
     "text": [
      "Index(['Dates', 'Category', 'Descript', 'DayOfWeek', 'PdDistrict',\n",
      "       'Resolution', 'Address', 'X', 'Y'],\n",
      "      dtype='object')\n"
     ]
    }
   ],
   "source": [
    "Location = r'C:\\Users\\bhushanr\\Downloads\\data\\train.csv'\n",
    "Location1 = r'C:\\Users\\bhushanr\\Downloads\\data\\test.csv'\n",
    "\n",
    "data = pd.read_csv(Location)\n",
    "test_data = pd.read_csv(Location1)\n",
    "data.shape\n",
    "\n",
    "#print data fields\n",
    "print(data.columns)\n",
    "\n"
   ]
  },
  {
   "cell_type": "code",
   "execution_count": 4,
   "metadata": {
    "collapsed": false
   },
   "outputs": [
    {
     "data": {
      "text/plain": [
       "Dates         datetime64[ns]\n",
       "Category              object\n",
       "Descript              object\n",
       "DayOfWeek             object\n",
       "PdDistrict            object\n",
       "Resolution            object\n",
       "Address               object\n",
       "X                    float64\n",
       "Y                    float64\n",
       "Year                   int64\n",
       "Month                  int64\n",
       "Day                    int64\n",
       "Date                   int64\n",
       "Hour                   int64\n",
       "DayOfYear              int64\n",
       "dtype: object"
      ]
     },
     "execution_count": 4,
     "metadata": {},
     "output_type": "execute_result"
    }
   ],
   "source": [
    "#Clean variables\n",
    "data['Dates'] = pd.to_datetime(data['Dates'])\n",
    "data['Year'] = data.Dates.dt.year\n",
    "data['Month'] = data.Dates.dt.month\n",
    "data['Day'] = data.Dates.dt.month\n",
    "data['Date'] = data.Dates.dt.day\n",
    "data['Hour'] = data.Dates.dt.hour\n",
    "data['DayOfYear'] = data.Dates.dt.dayofyear\n",
    "data.dtypes"
   ]
  },
  {
   "cell_type": "code",
   "execution_count": 5,
   "metadata": {
    "collapsed": false
   },
   "outputs": [
    {
     "name": "stdout",
     "output_type": "stream",
     "text": [
      "There are a total of 878,049, values.\n",
      "There are a total of 389,257 Dates.\n",
      "There are a total of 39 Category.\n",
      "There are a total of 879 Descript.\n",
      "There are a total of 7 DayOfWeek.\n",
      "There are a total of 10 PdDistrict.\n",
      "There are a total of 17 Resolution.\n",
      "There are a total of 23,228 Address.\n",
      "There are a total of 34,243 X.\n",
      "There are a total of 34,243 Y.\n",
      "There are a total of 13 Year.\n",
      "There are a total of 12 Month.\n",
      "There are a total of 12 Day.\n",
      "There are a total of 31 Date.\n",
      "There are a total of 24 Hour.\n",
      "There are a total of 338 DayOfYear.\n"
     ]
    }
   ],
   "source": [
    "# Count distinct for each variable:\n",
    "print(\"There are a total of {:,}, values.\".format(len(data)))\n",
    "\n",
    "for var, series in data.iteritems():\n",
    "    print(\"There are a total of {:,} {}.\".format(len(series.value_counts()), var))"
   ]
  },
  {
   "cell_type": "code",
   "execution_count": 6,
   "metadata": {
    "collapsed": false
   },
   "outputs": [
    {
     "name": "stdout",
     "output_type": "stream",
     "text": [
      "-------------------------------------------------------------------------\n",
      "There are a total of 39 distinct Category values, as follows: \n",
      "LARCENY/THEFT                  174900\n",
      "OTHER OFFENSES                 126182\n",
      "NON-CRIMINAL                    92304\n",
      "ASSAULT                         76876\n",
      "DRUG/NARCOTIC                   53971\n",
      "VEHICLE THEFT                   53781\n",
      "VANDALISM                       44725\n",
      "WARRANTS                        42214\n",
      "BURGLARY                        36755\n",
      "SUSPICIOUS OCC                  31414\n",
      "MISSING PERSON                  25989\n",
      "ROBBERY                         23000\n",
      "FRAUD                           16679\n",
      "FORGERY/COUNTERFEITING          10609\n",
      "SECONDARY CODES                  9985\n",
      "WEAPON LAWS                      8555\n",
      "PROSTITUTION                     7484\n",
      "TRESPASS                         7326\n",
      "STOLEN PROPERTY                  4540\n",
      "SEX OFFENSES FORCIBLE            4388\n",
      "DISORDERLY CONDUCT               4320\n",
      "DRUNKENNESS                      4280\n",
      "RECOVERED VEHICLE                3138\n",
      "KIDNAPPING                       2341\n",
      "DRIVING UNDER THE INFLUENCE      2268\n",
      "RUNAWAY                          1946\n",
      "LIQUOR LAWS                      1903\n",
      "ARSON                            1513\n",
      "LOITERING                        1225\n",
      "EMBEZZLEMENT                     1166\n",
      "SUICIDE                           508\n",
      "FAMILY OFFENSES                   491\n",
      "BAD CHECKS                        406\n",
      "BRIBERY                           289\n",
      "EXTORTION                         256\n",
      "SEX OFFENSES NON FORCIBLE         148\n",
      "GAMBLING                          146\n",
      "PORNOGRAPHY/OBSCENE MAT            22\n",
      "TREA                                6\n",
      "Name: Category, dtype: int64\n",
      "\n",
      "-------------------------------------------------------------------------\n",
      "There are a total of 10 distinct PdDistrict values, as follows: \n",
      "SOUTHERN      157182\n",
      "MISSION       119908\n",
      "NORTHERN      105296\n",
      "BAYVIEW        89431\n",
      "CENTRAL        85460\n",
      "TENDERLOIN     81809\n",
      "INGLESIDE      78845\n",
      "TARAVAL        65596\n",
      "PARK           49313\n",
      "RICHMOND       45209\n",
      "Name: PdDistrict, dtype: int64\n",
      "\n",
      "-------------------------------------------------------------------------\n",
      "There are a total of 7 distinct DayOfWeek values, as follows: \n",
      "Friday       133734\n",
      "Wednesday    129211\n",
      "Saturday     126810\n",
      "Thursday     125038\n",
      "Tuesday      124965\n",
      "Monday       121584\n",
      "Sunday       116707\n",
      "Name: DayOfWeek, dtype: int64\n",
      "\n",
      "-------------------------------------------------------------------------\n",
      "There are a total of 12 distinct Month values, as follows: \n",
      "10    80274\n",
      "5     79644\n",
      "4     78096\n",
      "3     76320\n",
      "1     73536\n",
      "11    72975\n",
      "9     71982\n",
      "6     70892\n",
      "2     70813\n",
      "7     69971\n",
      "8     68540\n",
      "12    65006\n",
      "Name: Month, dtype: int64\n",
      "\n",
      "-------------------------------------------------------------------------\n",
      "There are a total of 12 distinct Day values, as follows: \n",
      "10    80274\n",
      "5     79644\n",
      "4     78096\n",
      "3     76320\n",
      "1     73536\n",
      "11    72975\n",
      "9     71982\n",
      "6     70892\n",
      "2     70813\n",
      "7     69971\n",
      "8     68540\n",
      "12    65006\n",
      "Name: Day, dtype: int64\n",
      "\n",
      "-------------------------------------------------------------------------\n",
      "There are a total of 24 distinct Hour values, as follows: \n",
      "18    55104\n",
      "17    53553\n",
      "12    51934\n",
      "16    50137\n",
      "19    49475\n",
      "15    48058\n",
      "22    45741\n",
      "0     44865\n",
      "20    44694\n",
      "14    44424\n",
      "21    43661\n",
      "13    43145\n",
      "23    42460\n",
      "11    38373\n",
      "10    37806\n",
      "9     35555\n",
      "8     32900\n",
      "1     26173\n",
      "2     22296\n",
      "7     22048\n",
      "3     14014\n",
      "6     13133\n",
      "4      9863\n",
      "5      8637\n",
      "Name: Hour, dtype: int64\n",
      "\n"
     ]
    }
   ],
   "source": [
    "# View All of Categories, PdDistrict, Resolution, DayOfWeek\n",
    "variables = [\"Category\", \"PdDistrict\", \"DayOfWeek\",\"Month\",\"Day\",\"Hour\"]\n",
    "for col in variables:\n",
    "    print(\"-------------------------------------------------------------------------\")\n",
    "    print(\"There are a total of {:,} distinct {} values, as follows: \".format(len(data[col].value_counts()), col))\n",
    "    print(data[col].value_counts())\n",
    "    print()"
   ]
  },
  {
   "cell_type": "code",
   "execution_count": 7,
   "metadata": {
    "collapsed": false
   },
   "outputs": [
    {
     "name": "stdout",
     "output_type": "stream",
     "text": [
      "                   X              Y           Year          Month  \\\n",
      "count  878049.000000  878049.000000  878049.000000  878049.000000   \n",
      "mean     -122.422616      37.771020    2008.712046       6.436509   \n",
      "std         0.030354       0.456893       3.631194       3.428972   \n",
      "min      -122.513642      37.707879    2003.000000       1.000000   \n",
      "25%      -122.432952      37.752427    2006.000000       3.000000   \n",
      "50%      -122.416420      37.775421    2009.000000       6.000000   \n",
      "75%      -122.406959      37.784369    2012.000000       9.000000   \n",
      "max      -120.500000      90.000000    2015.000000      12.000000   \n",
      "\n",
      "                 Day           Date           Hour      DayOfYear  \n",
      "count  878049.000000  878049.000000  878049.000000  878049.000000  \n",
      "mean        6.436509      15.570623      13.412655     180.332158  \n",
      "std         3.428972       8.783005       6.549573     104.897857  \n",
      "min         1.000000       1.000000       0.000000       1.000000  \n",
      "25%         3.000000       8.000000       9.000000      90.000000  \n",
      "50%         6.000000      16.000000      14.000000     179.000000  \n",
      "75%         9.000000      23.000000      19.000000     273.000000  \n",
      "max        12.000000      31.000000      23.000000     365.000000  \n"
     ]
    }
   ],
   "source": [
    "print(data.describe())"
   ]
  },
  {
   "cell_type": "code",
   "execution_count": 8,
   "metadata": {
    "collapsed": false
   },
   "outputs": [
    {
     "name": "stdout",
     "output_type": "stream",
     "text": [
      "There are 67 outliers where Y == 90\n",
      "Save the outliers separately and removed from plotting\n"
     ]
    }
   ],
   "source": [
    "outlier = data[data.Y == 90]\n",
    "print(\"There are {} outliers where Y == 90\".format(len(outlier)))\n",
    "print(\"Save the outliers separately and removed from plotting\")\n",
    "train_data = data[data.Y != 90]"
   ]
  },
  {
   "cell_type": "code",
   "execution_count": 9,
   "metadata": {
    "collapsed": false
   },
   "outputs": [
    {
     "data": {
      "text/plain": [
       "<matplotlib.axes._subplots.AxesSubplot at 0x1b0cab38>"
      ]
     },
     "execution_count": 9,
     "metadata": {},
     "output_type": "execute_result"
    },
    {
     "data": {
      "image/png": "[encoded data removed]",
      "text/plain": [
       "<matplotlib.figure.Figure at 0x1b0ca518>"
      ]
     },
     "metadata": {},
     "output_type": "display_data"
    }
   ],
   "source": [
    "#Make a basic plot\n",
    "train_data.plot(kind='scatter', x='X', y='Y')"
   ]
  },
  {
   "cell_type": "code",
   "execution_count": 11,
   "metadata": {
    "collapsed": false
   },
   "outputs": [],
   "source": [
    "#Create a function to make a submission to kaggle\n",
    "\n",
    "def create_kaggle_submission(preds):\n",
    "    labels = [\"Id\", \"ARSON\", \"ASSAULT\", \"BAD CHECKS\", \"BRIBERY\", \"BURGLARY\", \"DISORDERLY CONDUCT\", \"DRIVING UNDER THE INFLUENCE\", \n",
    "             \"DRUG/NARCOTIC\", \"DRUNKENNESS\", \"EMBEZZLEMENT\", \"EXTORTION\", \"FAMILY OFFENSES\", \"FORGERY/COUNTERFEITING\", \"FRAUD\",\n",
    "             \"GAMBLING\",\"KIDNAPPING\",\"LARCENY/THEFT\",\"LIQUOR LAWS\",\"LOITERING\",\"MISSING PERSON\",\"NON-CRIMINAL\",\n",
    "              \"OTHER OFFENSES\",\"PORNOGRAPHY/OBSCENE MAT\",\"PROSTITUTION\",\"RECOVERED VEHICLE\",\"ROBBERY\",\"RUNAWAY\",\n",
    "              \"SECONDARY CODES\",\"SEX OFFENSES FORCIBLE\",\"SEX OFFENSES NON FORCIBLE\",\"STOLEN PROPERTY\",\"SUICIDE\",\n",
    "              \"SUSPICIOUS OCC\",\"TREA\",\"TRESPASS\",\"VANDALISM\",\"VEHICLE THEFT\",\"WARRANTS\",\"WEAPON LAWS\"]\n",
    "    head_str = ','.join(labels)\n",
    "    num_cat = len(labels)\n",
    "    \n",
    "    ids = np.arange(preds.shape[0])[np.newaxis].transpose()\n",
    "    results = np.column_stack((ids,preds))\n",
    "    \n",
    "    num_form = ['%4f']*(num_cat - 1)\n",
    "    num_form.insert(0, '%d')\n",
    "    \n",
    "    np.savetxt('sample.csv', results, fmt=num_form, delimiter=',', header=head_str,comments='')\n",
    "    "
   ]
  },
  {
   "cell_type": "markdown",
   "metadata": {},
   "source": [
    "Bernouilli Naive Bayes\n",
    "\n",
    "Feature generation\n",
    "Bernouilli NB requires binary data so create dummy variables for each variable in the data set."
   ]
  },
  {
   "cell_type": "code",
   "execution_count": 12,
   "metadata": {
    "collapsed": false
   },
   "outputs": [
    {
     "name": "stdout",
     "output_type": "stream",
     "text": [
      "['Dates' 'Category' 'Descript' 'DayOfWeek' 'PdDistrict' 'Resolution'\n",
      " 'Address' 'X' 'Y' 'DateTime' 'Year' 'Month' 'Day' 'Hour' 'SecondsDelta'\n",
      " 'Weekend' 2003 2004 2005 2006 2007 2008 2009 2010 2011 2012 2013 2014 2015\n",
      " 'Jan' 'Feb' 'Mar' 'Apr' 'May' 'Jun' 'Jul' 'Aug' 'Sep' 'Oct' 'Nov' 'Dec' 1\n",
      " 2 3 4 5 6 7 8 9 10 11 12 13 14 15 16 17 18 19 20 21 22 23 24 25 26 27 28\n",
      " 29 30 31 'Friday' 'Monday' 'Saturday' 'Sunday' 'Thursday' 'Tuesday'\n",
      " 'Wednesday' '12AM' '1AM' '2AM' '3AM' '4AM' '5AM' '6AM' '7AM' '8AM' '9AM'\n",
      " '10AM' '11AM' '12PM' '1PM' '2PM' '3PM' '4PM' '5PM' '6PM' '7PM' '8PM' '9PM'\n",
      " '10PM' '11PM' 'BAYVIEW' 'CENTRAL' 'INGLESIDE' 'MISSION' 'NORTHERN' 'PARK'\n",
      " 'RICHMOND' 'SOUTHERN' 'TARAVAL' 'TENDERLOIN']\n"
     ]
    }
   ],
   "source": [
    "Location = r'C:\\Users\\bhushanr\\Downloads\\data\\train.csv'\n",
    "Location1 = r'C:\\Users\\bhushanr\\Downloads\\data\\test.csv'\n",
    "data_orig = pd.read_csv(Location)\n",
    "test_orig = pd.read_csv(Location1)\n",
    "\n",
    "# Extract new features in Pandas\n",
    "def time_features(data):\n",
    "    data['DateTime'] = pd.to_datetime(data['Dates'])\n",
    "    data['Year'] = pd.DatetimeIndex(data['DateTime']).year\n",
    "    data['Month'] = pd.DatetimeIndex(data['DateTime']).month\n",
    "    data['Day'] = pd.DatetimeIndex(data['DateTime']).day\n",
    "    data['Hour'] = pd.DatetimeIndex(data['DateTime']).hour\n",
    "    data['SecondsDelta'] = (data.DateTime - pd.Timestamp('2013-01-01')) / np.timedelta64(1,'s')\n",
    "    data['Weekend'] = (data.DayOfWeek == \"Saturday\") | (data.DayOfWeek == \"Sunday\")\n",
    "    years = pd.get_dummies(data.Year)\n",
    "    months = pd.get_dummies(data.Month)\n",
    "    months.columns = ['Jan', 'Feb', 'Mar', 'Apr', 'May', 'Jun', 'Jul', 'Aug', 'Sep', 'Oct', 'Nov', 'Dec']\n",
    "    days = pd.get_dummies(data.Day)\n",
    "    daysofweek = pd.get_dummies(data.DayOfWeek)\n",
    "    hours = pd.get_dummies(data.Hour)\n",
    "    hours.columns = ['12AM', '1AM', '2AM', '3AM', '4AM', '5AM',\n",
    "                     '6AM', '7AM', '8AM', '9AM', '10AM', '11AM',\n",
    "                     '12PM', '1PM', '2PM', '3PM', '4PM', '5PM',\n",
    "                     '6PM', '7PM', '8PM', '9PM', '10PM', '11PM']\n",
    "    districts = pd.get_dummies(data.PdDistrict)\n",
    "    new_data = pd.concat([data, years, months, days, daysofweek, hours, districts], axis=1)\n",
    "    return new_data\n",
    "\n",
    "data = time_features(data_orig)\n",
    "test = time_features(test_orig)\n",
    "\n",
    "# Separate labels\n",
    "labels = data.Category\n",
    "\n",
    "# Drop Category, Descript and Resolution columns since we cannot use them to predict\n",
    "train_data = data.drop(['Category', 'Descript', 'Resolution'], axis=1)\n",
    "train_names = data.columns.values.tolist()\n",
    "test_names = test.columns.values.tolist()\n",
    "print(data.columns.values)"
   ]
  },
  {
   "cell_type": "code",
   "execution_count": 17,
   "metadata": {
    "collapsed": false
   },
   "outputs": [
    {
     "name": "stdout",
     "output_type": "stream",
     "text": [
      "Mini Train Data: (10000, 110)\n",
      "Mini Train Labels: (10000,)\n",
      "Mini Train Unique Labels: 37\n",
      "\n",
      "Regular Train Data: (428991, 110)\n",
      "Regular Train Labels: (428991,)\n",
      "Regular Train Unique Labels: 38\n",
      "\n",
      "Dev Data: (438991, 110)\n",
      "Dev Labels: (438991,)\n",
      "Dev Train Unique Labels: 39\n",
      "\n",
      "Test Data: (884262, 111)\n",
      "\n",
      "Columns in use: ['Dates', 'Category', 'Descript', 'DayOfWeek', 'PdDistrict', 'Resolution', 'Address', 'X', 'Y', 'DateTime', 'Year', 'Month', 'Day', 'Hour', 'SecondsDelta', 'Weekend', 2003, 2004, 2005, 2006, 2007, 2008, 2009, 2010, 2011, 2012, 2013, 2014, 2015, 'Jan', 'Feb', 'Mar', 'Apr', 'May', 'Jun', 'Jul', 'Aug', 'Sep', 'Oct', 'Nov', 'Dec', 1, 2, 3, 4, 5, 6, 7, 8, 9, 10, 11, 12, 13, 14, 15, 16, 17, 18, 19, 20, 21, 22, 23, 24, 25, 26, 27, 28, 29, 30, 31, 'Friday', 'Monday', 'Saturday', 'Sunday', 'Thursday', 'Tuesday', 'Wednesday', '12AM', '1AM', '2AM', '3AM', '4AM', '5AM', '6AM', '7AM', '8AM', '9AM', '10AM', '11AM', '12PM', '1PM', '2PM', '3PM', '4PM', '5PM', '6PM', '7PM', '8PM', '9PM', '10PM', '11PM', 'BAYVIEW', 'CENTRAL', 'INGLESIDE', 'MISSION', 'NORTHERN', 'PARK', 'RICHMOND', 'SOUTHERN', 'TARAVAL', 'TENDERLOIN']\n"
     ]
    }
   ],
   "source": [
    "# Shuffle the input: create a random permutation of the integers between 0 and the number of data points and apply this\n",
    "# permutation to features.\n",
    "# NOTE: Each time you run this cell, you'll re-shuffle the data, resulting in a different ordering.\n",
    "\n",
    "shuffle = np.random.permutation(np.arange(train_data.shape[0]))\n",
    "train_data = train_data.reindex(shuffle)\n",
    "labels = labels.reindex(shuffle)\n",
    "\n",
    "# Remove records where Y == 90\n",
    "train_data_clean = train_data[train_data.Y != 90]\n",
    "labels_clean = labels[train_data.Y != 90]\n",
    "num_examples = train_data_clean.shape[0]\n",
    "\n",
    "# Split the feature and label sets into train and dev sets\n",
    "mini_train_data = train_data_clean[:10000]\n",
    "mini_train_labels = labels_clean[:10000]\n",
    "reg_train_data = train_data_clean[10000:int(num_examples/2)]\n",
    "reg_train_labels = labels_clean[10000:int(num_examples/2)]\n",
    "dev_data = train_data_clean[int(num_examples/2):]\n",
    "dev_labels = labels_clean[int(num_examples/2):]\n",
    "\n",
    "test_data = test.copy()\n",
    "\n",
    "print(\"Mini Train Data:\", mini_train_data.shape)\n",
    "print(\"Mini Train Labels:\", mini_train_labels.shape)\n",
    "print(\"Mini Train Unique Labels:\", len(mini_train_labels.unique()))\n",
    "print(\"\\nRegular Train Data:\", reg_train_data.shape)\n",
    "print(\"Regular Train Labels:\", reg_train_labels.shape)\n",
    "print(\"Regular Train Unique Labels:\", len(reg_train_labels.unique()))\n",
    "print(\"\\nDev Data:\", dev_data.shape)\n",
    "print(\"Dev Labels:\", dev_labels.shape)\n",
    "print(\"Dev Train Unique Labels:\", len(dev_labels.unique()))\n",
    "print(\"\\nTest Data:\", test_data.shape)\n",
    "print(\"\\nColumns in use:\", train_names)\n"
   ]
  },
  {
   "cell_type": "code",
   "execution_count": 13,
   "metadata": {
    "collapsed": false
   },
   "outputs": [
    {
     "name": "stdout",
     "output_type": "stream",
     "text": [
      "Number of features: 99\n"
     ]
    }
   ],
   "source": [
    "features_to_use = [2003, 2004, 2005, 2006, 2007, 2008, 2009, 2010, 2011, 2012, 2013, 2014, 2015, \n",
    "                   'Jan', 'Feb', 'Mar', 'Apr', 'May', 'Jun', 'Jul', 'Aug', 'Sep', 'Oct', 'Nov', 'Dec', \n",
    "                   1, 2, 3, 4, 5, 6, 7, 8, 9, 10, 11, 12, 13, 14, 15, \n",
    "                   16, 17, 18, 19, 20, 21, 22, 23, 24, 25, 26, 27, 28, 29, 30, 31, \n",
    "                   'Friday', 'Monday', 'Saturday', 'Sunday', 'Thursday', 'Tuesday', 'Wednesday', \n",
    "                   '12AM', '1AM', '2AM', '3AM', '4AM', '5AM', '6AM', '7AM', '8AM', '9AM', '10AM', '11AM', \n",
    "                   '12PM', '1PM', '2PM', '3PM', '4PM', '5PM', '6PM', '7PM', '8PM', '9PM', '10PM', '11PM', \n",
    "                   'BAYVIEW', 'CENTRAL', 'INGLESIDE', 'MISSION', 'NORTHERN', 'PARK', 'RICHMOND', \n",
    "                   'SOUTHERN', 'TARAVAL', 'TENDERLOIN', 'X', 'Y']\n",
    "\n",
    "print(\"Number of features:\", len(features_to_use))"
   ]
  },
  {
   "cell_type": "code",
   "execution_count": null,
   "metadata": {
    "collapsed": false
   },
   "outputs": [
    {
     "name": "stdout",
     "output_type": "stream",
     "text": [
      "Best parameter:\n",
      " {'alpha': 1.0}\n",
      "\n",
      "Best score:\n",
      " 2.56695897479\n"
     ]
    },
    {
     "data": {
      "image/png": "[encoded data removed]",
      "text/plain": [
       "<matplotlib.figure.Figure at 0xb5dcf28>"
      ]
     },
     "metadata": {},
     "output_type": "display_data"
    }
   ],
   "source": [
    "# Calculate the optimal alpha is for a Bernoulli NB model\n",
    "\n",
    "params = {'alpha': [0.0001, 0.001, 0.01, 0.1, 1.0, 10.0, 100.0, 500.0, 1000.0]}\n",
    "\n",
    "clf = GridSearchCV(BernoulliNB(), [params], scoring='log_loss')\n",
    "clf.fit(reg_train_data[features_to_use], reg_train_labels)\n",
    "\n",
    "print(\"Best parameter:\\n\", clf.best_params_)\n",
    "print(\"\\nBest score:\\n\", -1 * clf.best_score_)\n",
    "\n",
    "best_alpha = clf.best_params_['alpha']\n",
    "\n",
    "scores = [clf.grid_scores_[i][1] * -1 for i in range(len(clf.grid_scores_))]\n",
    "\n",
    "plt.plot(np.log10(params['alpha']), scores, marker='o')\n",
    "plt.xlabel(\"Log(Alpha)\")\n",
    "plt.ylabel(\"Log-Loss\")\n",
    "plt.show()"
   ]
  },
  {
   "cell_type": "code",
   "execution_count": null,
   "metadata": {
    "collapsed": true
   },
   "outputs": [],
   "source": []
  }
 ],
 "metadata": {
  "kernelspec": {
   "display_name": "Python 3",
   "language": "python",
   "name": "python3"
  },
  "language_info": {
   "codemirror_mode": {
    "name": "ipython",
    "version": 3
   },
   "file_extension": ".py",
   "mimetype": "text/x-python",
   "name": "python",
   "nbconvert_exporter": "python",
   "pygments_lexer": "ipython3",
   "version": "3.5.1"
  }
 },
 "nbformat": 4,
 "nbformat_minor": 0
}
