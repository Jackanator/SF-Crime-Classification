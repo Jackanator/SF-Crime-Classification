{
 "cells": [
  {
   "cell_type": "markdown",
   "metadata": {},
   "source": [
    "# SF Crime Classification\n",
    "\n",
    "\n",
    "Project Setup"
   ]
  },
  {
   "cell_type": "code",
   "execution_count": 24,
   "metadata": {
    "collapsed": false
   },
   "outputs": [],
   "source": [
    "# This tells matplotlib not to try opening a new window for each plot.\n",
    "%matplotlib inline\n",
    "\n",
    "# General libraries.\n",
    "import numpy as np\n",
    "import matplotlib.pyplot as plt\n",
    "import pandas as pd\n",
    "import csv\n",
    "import datetime\n",
    "\n",
    "# SK-learn libraries for learning.\n",
    "from sklearn.pipeline import Pipeline\n",
    "from sklearn.neighbors import KNeighborsClassifier\n",
    "from sklearn.naive_bayes import BernoulliNB\n",
    "from sklearn.naive_bayes import MultinomialNB\n",
    "from sklearn.grid_search import GridSearchCV\n",
    "from sklearn.naive_bayes import GaussianNB\n",
    "\n",
    "# SK-learn libraries for evaluation.\n",
    "from sklearn.metrics import confusion_matrix\n",
    "from sklearn import metrics\n",
    "from sklearn.metrics import classification_report\n",
    "from sklearn.metrics import log_loss\n",
    "\n",
    "# SK-learn libraries for feature extraction from text.\n",
    "from sklearn.feature_extraction.text import *\n",
    "\n",
    "\n"
   ]
  },
  {
   "cell_type": "code",
   "execution_count": 13,
   "metadata": {
    "collapsed": false
   },
   "outputs": [
    {
     "data": {
      "text/plain": [
       "(878049, 9)"
      ]
     },
     "execution_count": 13,
     "metadata": {},
     "output_type": "execute_result"
    }
   ],
   "source": [
    "Location = r'C:\\Users\\bhushanr\\Downloads\\data\\train.csv'\n",
    "Location1 = r'C:\\Users\\bhushanr\\Downloads\\data\\test.csv'\n",
    "\n",
    "train = pd.read_csv(Location)\n",
    "test = pd.read_csv(Location1)\n",
    "train.shape\n"
   ]
  },
  {
   "cell_type": "code",
   "execution_count": 15,
   "metadata": {
    "collapsed": false
   },
   "outputs": [
    {
     "name": "stdout",
     "output_type": "stream",
     "text": [
      "['Dates' 'Category' 'Descript' 'DayOfWeek' 'PdDistrict' 'Resolution'\n",
      " 'Address' 'X' 'Y' 'DateTime' 'Year' 'Month' 'Day' 'Hour' 1 2 3 4 5 6 7 8 9\n",
      " 10 11 12 'Friday' 'Monday' 'Saturday' 'Sunday' 'Thursday' 'Tuesday'\n",
      " 'Wednesday' 0 1 2 3 4 5 6 7 8 9 10 11 12 13 14 15 16 17 18 19 20 21 22 23\n",
      " 'BAYVIEW' 'CENTRAL' 'INGLESIDE' 'MISSION' 'NORTHERN' 'PARK' 'RICHMOND'\n",
      " 'SOUTHERN' 'TARAVAL' 'TENDERLOIN']\n"
     ]
    }
   ],
   "source": [
    "#Feature extraction\n",
    "def time_features(train):\n",
    "    train['DateTime'] = pd.to_datetime(train['Dates'])\n",
    "    train['Year'] = pd.DatetimeIndex(train['DateTime']).year\n",
    "    train['Month'] = pd.DatetimeIndex(train['DateTime']).month\n",
    "    train['Day'] = pd.DatetimeIndex(train['DateTime']).day\n",
    "    train['Hour'] = pd.DatetimeIndex(train['DateTime']).hour\n",
    "    \n",
    "    months = pd.get_dummies(train.Month)\n",
    "    daysofweek = pd.get_dummies(train.DayOfWeek)\n",
    "    hours = pd.get_dummies(train.Hour)\n",
    "    districts = pd.get_dummies(train.PdDistrict)\n",
    "    train_mod = pd.concat([train, months, daysofweek, hours, districts], axis=1)\n",
    "    return train_mod\n",
    "\n",
    "train = time_features(train)\n",
    "test = time_features(test)\n",
    "\n",
    "print(train.columns.values)"
   ]
  },
  {
   "cell_type": "code",
   "execution_count": 18,
   "metadata": {
    "collapsed": false
   },
   "outputs": [],
   "source": [
    "#Insert labels\n",
    "labels = train.Category\n",
    "#Drop Category, Resolution and Description columns as they aren't required for prediction\n",
    "train_data = train.drop(['Category', 'Descript', 'Resolution'], axis=1)\n",
    "train_names = train_data.columns.values.tolist()\n",
    "test_names = test.columns.values.tolist()"
   ]
  },
  {
   "cell_type": "code",
   "execution_count": 23,
   "metadata": {
    "collapsed": false
   },
   "outputs": [
    {
     "name": "stdout",
     "output_type": "stream",
     "text": [
      "Columns in use: ['Dates', 'DayOfWeek', 'PdDistrict', 'Address', 'X', 'Y', 'DateTime', 'Year', 'Month', 'Day', 'Hour', 1, 2, 3, 4, 5, 6, 7, 8, 9, 10, 11, 12, 'Friday', 'Monday', 'Saturday', 'Sunday', 'Thursday', 'Tuesday', 'Wednesday', 0, 1, 2, 3, 4, 5, 6, 7, 8, 9, 10, 11, 12, 13, 14, 15, 16, 17, 18, 19, 20, 21, 22, 23, 'BAYVIEW', 'CENTRAL', 'INGLESIDE', 'MISSION', 'NORTHERN', 'PARK', 'RICHMOND', 'SOUTHERN', 'TARAVAL', 'TENDERLOIN']\n"
     ]
    }
   ],
   "source": [
    "#SHuffle the input \n",
    "shuffle = np.random.permutation(np.arange(train_data.shape[0]))\n",
    "train_data = train_data.reindex(shuffle)\n",
    "labels = labels.reindex(shuffle)\n",
    "num_data = train_data.shape[0]\n",
    "\n",
    "# Split the feature into train and dev data sets\n",
    "mini_train_data = train_data[:5000]\n",
    "mini_train_labels = labels[:5000]\n",
    "\n",
    "train_data_new = train_data[5001:int(num_data/2)]\n",
    "train_labels_new = labels[5001:int(num_data/2)]\n",
    "\n",
    "dev_data = train_data[int(num_data/2) + 1:]\n",
    "dev_labels = labels[int(num_data/2) + 1:]\n",
    "\n",
    "test_data = test.copy()\n",
    "\n",
    "print(\"Columns in use:\", train_names)"
   ]
  },
  {
   "cell_type": "code",
   "execution_count": 31,
   "metadata": {
    "collapsed": false
   },
   "outputs": [
    {
     "name": "stdout",
     "output_type": "stream",
     "text": [
      "BernoulliNB accuracy: 0.217646415686\n",
      "Log Loss: 2.61415312445\n"
     ]
    }
   ],
   "source": [
    "features = [1, 2, 3, 4, 5, 6, 7, 8, 9, 10, 11, 12, 'Friday', 'Monday', 'Saturday', 'Sunday', 'Thursday', 'Tuesday', \n",
    "            'Wednesday', 0, 1, 2, 3, 4, 5, 6, 7, 8, 9, 10, 11, 12, 13, 14, 15, 16, 17, 18, 19, 20, 21, 22, 23, \n",
    "            'BAYVIEW', 'CENTRAL', 'INGLESIDE', 'MISSION', 'NORTHERN', 'PARK', 'RICHMOND', 'SOUTHERN', 'TARAVAL', \n",
    "            'TENDERLOIN']\n",
    "\n",
    "BNB = BernoulliNB()\n",
    "BNB.fit(train_data_new[features], train_labels_new)\n",
    "\n",
    "predictions = BNB.predict_proba(test_data[features])\n",
    "print(\"BernoulliNB accuracy:\", BNB.score(dev_data[features], dev_labels))\n",
    "print(\"Log Loss:\", log_loss(dev_labels, BNB.predict_proba(dev_data[features])))"
   ]
  },
  {
   "cell_type": "code",
   "execution_count": null,
   "metadata": {
    "collapsed": true
   },
   "outputs": [],
   "source": []
  }
 ],
 "metadata": {
  "kernelspec": {
   "display_name": "Python 3",
   "language": "python",
   "name": "python3"
  },
  "language_info": {
   "codemirror_mode": {
    "name": "ipython",
    "version": 3
   },
   "file_extension": ".py",
   "mimetype": "text/x-python",
   "name": "python",
   "nbconvert_exporter": "python",
   "pygments_lexer": "ipython3",
   "version": "3.5.1"
  }
 },
 "nbformat": 4,
 "nbformat_minor": 0
}
