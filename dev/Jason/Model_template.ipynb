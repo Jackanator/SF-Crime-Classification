{
 "cells": [
  {
   "cell_type": "code",
   "execution_count": 1,
   "metadata": {
    "collapsed": true
   },
   "outputs": [],
   "source": [
    "import time\n",
    "import pandas as pd\n",
    "from sklearn.cross_validation import train_test_split\n",
    "from sklearn.metrics import log_loss\n",
    "from sklearn.dummy import DummyClassifier\n",
    "from sklearn.preprocessing import LabelEncoder"
   ]
  },
  {
   "cell_type": "code",
   "execution_count": 2,
   "metadata": {
    "collapsed": false
   },
   "outputs": [],
   "source": [
    "def make_Kaggle_file(predict_probabilities, columns, output_file_name=\"auto\", decimal_limit=3, compress=True):\n",
    "    \"\"\"\n",
    "    Required imports: \n",
    "    import time\n",
    "    import pandas as pd\n",
    "    \n",
    "    predict_probabilities: array-like of shape = [n_samples, n_classes]. Is the output of a \n",
    "        predict_proba method of a sklearn classifier\n",
    "        \n",
    "    columns: array or list of column names that are in the same order as the columns of the \n",
    "        predict_probabilities method. If LabelEncoder was used, is accessed via the classes_ \n",
    "        attribute. Don't include an \"Id\" column.\n",
    "        \n",
    "    output_file_name: If \"auto\" names it sf_crime_test_predictions_<YearMonthDay-HourMinuteSecond>, \n",
    "        else uses the string entered as the file name.\n",
    "        \n",
    "    decimal_limit: If None uses full precision, else formats predictions based on that precision. \n",
    "        Can significantly reduce the filesize and make writing the file faster.\n",
    "        i.e. actual prediction = .2352452435, decimal_limit=2 --> .24, decimal_limit=3 --> .235, etc.\n",
    "        \n",
    "    compress: If True, gzips the resulting file which can be uploaded to Kaggle. Reduces upload size. \n",
    "        Set argument to None to turn off.\n",
    "    \"\"\"\n",
    "    predictions = pd.DataFrame(predict_probabilities, columns=columns)\n",
    "    predictions.index.name = \"Id\"\n",
    "    if output_file_name == \"auto\":\n",
    "        timestr = time.strftime(\"%Y%m%d-%H%M%S\")\n",
    "        output_file_name = \"sf_crime_test_predictions_\" + timestr + \".csv\"\n",
    "    if decimal_limit:\n",
    "        decimal_limit = '%%.%df' % decimal_limit\n",
    "    if compress:\n",
    "        compression = \"gzip\"\n",
    "        output_file_name += \".gz\"\n",
    "    predictions.to_csv(output_file_name, float_format=decimal_limit, compression=compression)\n",
    "    print(\"Finished writing file: \", output_file_name)"
   ]
  },
  {
   "cell_type": "code",
   "execution_count": 3,
   "metadata": {
    "collapsed": false
   },
   "outputs": [
    {
     "data": {
      "text/plain": [
       "3.6635616461296463"
      ]
     },
     "execution_count": 3,
     "metadata": {},
     "output_type": "execute_result"
    }
   ],
   "source": [
    "# Read in training data\n",
    "X = pd.read_csv(\"../../data/train.csv\", usecols=[\"Category\", \"X\", \"Y\"])\n",
    "y = X.pop('Category')\n",
    "\n",
    "# Convert y labels to integer representations\n",
    "labels = LabelEncoder()\n",
    "y = labels.fit_transform(y)\n",
    "\n",
    "# Make train and test data to evaluate base line model\n",
    "X_train, X_test, y_train, y_test = train_test_split(X, y, train_size=.2, random_state=42)\n",
    "\n",
    "# Train a simple model that predicts all classes as equally likely\n",
    "clf = DummyClassifier(strategy=\"uniform\", random_state=42)\n",
    "clf.fit(X_train, y_train)\n",
    "y_pred = clf.predict_proba(X_test)\n",
    "\n",
    "# Expected log loss on test data\n",
    "log_loss(y_test, y_pred)"
   ]
  },
  {
   "cell_type": "code",
   "execution_count": 4,
   "metadata": {
    "collapsed": false
   },
   "outputs": [
    {
     "name": "stdout",
     "output_type": "stream",
     "text": [
      "Finished writing file:  sf_crime_test_predictions_20160327-205911.csv.gz\n"
     ]
    }
   ],
   "source": [
    "# Read in data to predict and make predictions\n",
    "X_predict = pd.read_csv(\"../../data/test.csv\", usecols=[\"X\", \"Y\"])\n",
    "final_predictions = clf.predict_proba(X_predict)\n",
    "\n",
    "# Export predictions to file to be submitted to Kaggle (Kaggle score = 3.66356)\n",
    "make_Kaggle_file(final_predictions, labels.classes_, decimal_limit=2)"
   ]
  }
 ],
 "metadata": {
  "kernelspec": {
   "display_name": "Python 3",
   "language": "python",
   "name": "python3"
  },
  "language_info": {
   "codemirror_mode": {
    "name": "ipython",
    "version": 3
   },
   "file_extension": ".py",
   "mimetype": "text/x-python",
   "name": "python",
   "nbconvert_exporter": "python",
   "pygments_lexer": "ipython3",
   "version": "3.5.1"
  }
 },
 "nbformat": 4,
 "nbformat_minor": 0
}
