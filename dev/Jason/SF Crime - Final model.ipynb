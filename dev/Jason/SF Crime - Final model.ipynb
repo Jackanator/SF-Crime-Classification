{
 "cells": [
  {
   "cell_type": "code",
   "execution_count": 1,
   "metadata": {
    "collapsed": false
   },
   "outputs": [],
   "source": [
    "%matplotlib inline"
   ]
  },
  {
   "cell_type": "code",
   "execution_count": 2,
   "metadata": {
    "collapsed": true
   },
   "outputs": [],
   "source": [
    "import time\n",
    "import pandas as pd\n",
    "import numpy as np\n",
    "from sklearn.cross_validation import train_test_split, KFold, cross_val_predict\n",
    "from sklearn.base import clone\n",
    "from sklearn.metrics import log_loss\n",
    "from sklearn.dummy import DummyClassifier\n",
    "from sklearn.preprocessing import LabelEncoder\n",
    "from sklearn.ensemble import RandomForestClassifier\n",
    "from sklearn.linear_model import LogisticRegression\n",
    "from sklearn.pipeline import Pipeline\n",
    "from sklearn.grid_search import RandomizedSearchCV\n",
    "from sklearn.decomposition import PCA\n",
    "from sklearn.preprocessing import StandardScaler\n",
    "from sklearn.base import TransformerMixin, BaseEstimator\n",
    "import holidays\n",
    "from scipy.stats import randint as sp_randint\n",
    "from scipy.stats import uniform as sp_uniform\n",
    "from scipy.stats import expon as sp_expon\n",
    "import matplotlib.pyplot as plt\n",
    "\n",
    "# Turns off annoying warnings. If there are ever serious data\n",
    "# errors, trying removing this line.\n",
    "pd.options.mode.chained_assignment = None"
   ]
  },
  {
   "cell_type": "code",
   "execution_count": 3,
   "metadata": {
    "collapsed": false
   },
   "outputs": [],
   "source": [
    "class BasicFeatures(BaseEstimator, TransformerMixin):\n",
    "    def __init__(self, date_features=True, DayOfWeek_features=True, \n",
    "                 PdDistrict_features=True, Address_features=True, \n",
    "                 Interaction_feature=True, Holiday_features=True):\n",
    "        \"\"\"\n",
    "        Add more features to the dataset. All of are stateless transforms and can be performed outside\n",
    "        of a CV loop.\n",
    "        \"\"\"\n",
    "        self.date_features = date_features\n",
    "        self.DayOfWeek_features = DayOfWeek_features\n",
    "        self.PdDistrict_features = PdDistrict_features\n",
    "        self.Address_features = Address_features\n",
    "        self.Interaction_feature = Interaction_feature\n",
    "        self.Holiday_features = Holiday_features\n",
    "    \n",
    "    def fit(self, X, y=None):\n",
    "        return self\n",
    "    \n",
    "    def transform(self, X_df, y=None):\n",
    "        # Features from dates\n",
    "        X = X_df.copy()\n",
    "        \n",
    "        if self.date_features:\n",
    "            X['Year'] = X.Dates.apply(lambda x: int(x[:4])) # Hypothesis: The distribution of crimes changed over time\n",
    "            X['Month'] = X.Dates.apply(lambda x: int(x[5:7])) # H: Certain crimes occur during some months more than others\n",
    "            X['Hour'] = X.Dates.apply(lambda x: int(x[11:13])) # H: Certain crimes occur at day, others at night\n",
    "            X['Minute'] = X.Dates.apply(lambda x: int(x[14:16])) # H: Certain crimes are rounded to the nearest hour\n",
    "            # Idea: Is holiday feature. H: Holidays --> Tourists --> Different types of crimes\n",
    "\n",
    "        # Features from DayOfWeek\n",
    "        if self.DayOfWeek_features:\n",
    "            X['DayOfWeekNum'] = X[\"DayOfWeek\"].map({\"Tuesday\":0, \"Wednesday\":1, \n",
    "                                                 \"Thursday\":2, \"Friday\":3, \n",
    "                                                 \"Saturday\":4, \"Sunday\":5, \n",
    "                                                 \"Monday\":6}) # H: Different days have different crime distributions\n",
    "            X['IsWeekend'] = X[\"DayOfWeekNum\"].apply(lambda x: 1*((x == 4) | (x == 5))) # H: Weekends are special\n",
    "\n",
    "        # Features from PdDistrict\n",
    "        if self.PdDistrict_features:\n",
    "            X['PdDistrictNum'] = LabelEncoder().fit_transform(X.PdDistrict) # H: Different districts have different crimes\n",
    "\n",
    "        # Features from Address\n",
    "        if self.Address_features:\n",
    "            X['Intersection'] = X.Address.apply(lambda x: 1*(\"/\" in x)) # H: Intersections have unique crimes\n",
    "        \n",
    "        if self.Interaction_feature:\n",
    "            X[\"Interaction\"] = ((X.X-X.X.mean())/X.X.std())*((X.Y-X.Y.mean())/X.Y.std())\n",
    "            \n",
    "        if self.Holiday_features:\n",
    "            us_holidays = holidays.UnitedStates()\n",
    "            date = X.Dates.apply(lambda x: str(x[:10])) # yyyy-mm-dd\n",
    "            holiday = date.apply(lambda x: x in us_holidays) #False/True\n",
    "            X['Holiday'] = LabelEncoder().fit_transform(holiday) #Recode to numbers\n",
    "        return X\n",
    "    \n",
    "\n",
    "class DuplicateCrimeCounts(BaseEstimator, TransformerMixin):\n",
    "    \"\"\"\n",
    "    For each crime, count the number of other crimes that occurred at the exact time and location\n",
    "    \"\"\"\n",
    "    def __init__(self):\n",
    "        pass\n",
    "    \n",
    "    def fit(self, X, y=None):\n",
    "        return self\n",
    "    \n",
    "    def transform(self, X):\n",
    "        result = X.groupby([\"Dates\", \"X\", \"Y\"]).size()\n",
    "        result = result.reset_index(name=\"crime_count\")\n",
    "        X = X.merge(result, how=\"left\", on=[\"Dates\", \"X\", \"Y\"])\n",
    "        return X\n",
    "\n",
    "\n",
    "class JustNumerics(BaseEstimator, TransformerMixin):\n",
    "    \"\"\"\n",
    "    Drops all columns that are objects\n",
    "    \"\"\"\n",
    "    def __init__(self):\n",
    "        pass\n",
    "    \n",
    "    def fit(self, X, y=None):\n",
    "        self.numeric_columns = X.dtypes[X.dtypes != \"object\"].index\n",
    "        return self\n",
    "    \n",
    "    def transform(self, X, y=None):\n",
    "        return X[self.numeric_columns]\n",
    "\n",
    "\n",
    "class PCATransform(BaseEstimator, TransformerMixin):\n",
    "    \"\"\"\n",
    "    PCA with an argument that allows the user to skip the transform \n",
    "    altogether.\n",
    "    \"\"\"\n",
    "    def __init__(self, n_components=.1, skip=False, whiten=False, standard_scalar=True):\n",
    "        self.n_components = n_components\n",
    "        self.skip = skip\n",
    "        self.whiten = whiten\n",
    "        self.standard_scalar = standard_scalar\n",
    "        \n",
    "    def fit(self, X, y=None):\n",
    "        if not self.skip:\n",
    "            if self.standard_scalar:\n",
    "                self.std_scalar = StandardScaler().fit(X)\n",
    "                X = self.std_scalar.transform(X)\n",
    "            self.pca = PCA(n_components=self.n_components, whiten=self.whiten).fit(X)\n",
    "        return self\n",
    "    \n",
    "    def transform(self, X, y=None):\n",
    "        if not self.skip:\n",
    "            if self.standard_scalar:\n",
    "                X = self.std_scalar.transform(X)\n",
    "            return self.pca.transform(X)\n",
    "        return X\n",
    "    \n",
    "class ModelBasedFeatures(BaseEstimator, TransformerMixin):\n",
    "    \"\"\"\n",
    "    Adds a feature to the dataset based on the output of a model.\n",
    "    \n",
    "    Should include in FeatureUnion.\n",
    "    \"\"\"\n",
    "    def __init__(self, model, feature_name, skip=False, train_cv=None):\n",
    "        self.model = model\n",
    "        self.feature_name = feature_name\n",
    "        self.skip = skip\n",
    "        self.train_cv = train_cv\n",
    "    \n",
    "    def _get_random_item(self, items):\n",
    "        # Currently only handles scipy distributions\n",
    "        return items.rvs()\n",
    "    \n",
    "    def fit(self, X, y=None, *args, **kwargs):\n",
    "        # Purpose of skip is to skip the estimator\n",
    "        if self.skip:\n",
    "            return self\n",
    "        \n",
    "        # Hash train data. If test data equals train data, \n",
    "        # use cv predictions.\n",
    "        if isinstance(X, pd.DataFrame):\n",
    "            self.hashed_value = hash(X.values.data.tobytes())\n",
    "        elif isinstance(X, np.ndarray):\n",
    "            self.hashed_value = hash(X.data.tobytes())\n",
    "        else:\n",
    "            print(\"Can't hash data\")\n",
    "            \n",
    "        # Get specific model param combo for this iteration\n",
    "        self.model_params = {key: self._get_random_item(kwargs[key]) for key in kwargs}\n",
    "        \n",
    "        # Set params of model to these parameters\n",
    "        self.model.set_params(**self.model_params)\n",
    "        \n",
    "        # Fit model\n",
    "        self.model.fit(X, y)\n",
    "        \n",
    "        # Save y values\n",
    "        self.y = y\n",
    "        \n",
    "        return self\n",
    "    \n",
    "    def transform(self, X):\n",
    "        # Purpose of skip is to skip the estimator\n",
    "        if self.skip:\n",
    "            return X\n",
    "        \n",
    "        # Is the data being transformed the same as the training data\n",
    "        is_train_data = False\n",
    "        if isinstance(X, pd.DataFrame) and self.hashed_value == hash(X.values.data.tobytes()):\n",
    "            is_train_data = True\n",
    "        if isinstance(X, np.ndarray) and self.hashed_value == hash(X.data.tobytes()):\n",
    "            is_train_data = True\n",
    "        \n",
    "        # If the dataset is the training data, use CV predictions\n",
    "        if is_train_data:\n",
    "            feature = cross_val_predict(clone(self.model), X, self.y)#, cv=self.train_cv)\n",
    "            \n",
    "        # Otherwise, use the model to predict\n",
    "        else:\n",
    "            feature = self.model.predict(X)\n",
    "        \n",
    "        # Add feature to dataset\n",
    "        if isinstance(X, pd.DataFrame):\n",
    "            X[self.feature_name] = feature\n",
    "        if isinstance(X, np.ndarray):\n",
    "            X = np.c_[X, feature]\n",
    "        return X\n",
    "    \n",
    "    \n",
    "def gridsearch_parameter_results(gridsearch):\n",
    "    \"\"\"\n",
    "    Evaluate how each feature impacts the final prediction.\n",
    "    \"\"\"\n",
    "    scores = [val[1] for val in gridsearch.grid_scores_]\n",
    "    params = gridsearch.param_distributions.keys()\n",
    "    for param in params:\n",
    "        arg_values = [val[0][param] for val in gridsearch.grid_scores_]\n",
    "        no_strings = all([type(arg) != str for arg in arg_values])\n",
    "        if no_strings:\n",
    "            plt.scatter(arg_values, scores, linewidth=0, s=100, alpha=.25)\n",
    "            plt.title(param)\n",
    "            plt.show()\n",
    "        else:\n",
    "            # Make all arg values strings\n",
    "            arg_values = [str(arg) for arg in arg_values]\n",
    "            results = pd.Series(data=scores, index=arg_values)\n",
    "            group_means = results.groupby(level=0).mean()\n",
    "            group_means.plot(kind=\"bar\", title=param, rot=0, linewidth=0, colormap=\"viridis\")\n",
    "            plt.show()\n",
    "\n",
    "\n",
    "def make_predictions(X_predict, clf, splits=20):\n",
    "    \"\"\"\n",
    "    Memory friendly way of making predictions. If you run into memory errors,\n",
    "    increase the value of splits.\n",
    "    \"\"\"\n",
    "    n = X_predict.shape[0]\n",
    "    step_size = n//splits + 1\n",
    "    indices = [e for e in range(0, n + splits + 1, step_size)]\n",
    "    results = []\n",
    "    for start, end in [e for e in zip(indices, indices[1:])]:\n",
    "        results.append(clf.predict_proba(X_predict[start:end]))\n",
    "    predictions = np.concatenate(results)\n",
    "    return predictions\n",
    "\n",
    "\n",
    "def make_Kaggle_file(predict_probabilities, columns, output_file_name=\"auto\", decimal_limit=3):\n",
    "    \"\"\"\n",
    "    Outputs a file that can be submitted to Kaggle. This takes a long time to run, so you \n",
    "    shouldn't run it that often. Instead, just have good internal validation techniques so you\n",
    "    don't have to check the public leaderboard.\n",
    "    \n",
    "    Required imports: \n",
    "    import time\n",
    "    import pandas as pd\n",
    "    \n",
    "    predict_probabilities: array-like of shape = [n_samples, n_classes]. Is the output of a \n",
    "        predict_proba method of a sklearn classifier\n",
    "        \n",
    "    columns: array or list of column names that are in the same order as the columns of the \n",
    "        predict_probabilities method. If LabelEncoder was used, is accessed via the classes_ \n",
    "        attribute. Don't include an \"Id\" column.\n",
    "        \n",
    "    output_file_name: If \"auto\" names it sf_crime_test_predictions_<YearMonthDay-HourMinuteSecond>, \n",
    "        else uses the string entered as the file name.\n",
    "        \n",
    "    decimal_limit: If None uses full precision, else formats predictions based on that precision. \n",
    "        Can significantly reduce the filesize and make writing the file faster.\n",
    "        i.e. actual prediction = .2352452435, decimal_limit=2 --> .24, decimal_limit=3 --> .235, etc.\n",
    "    \"\"\"\n",
    "    predictions = pd.DataFrame(predict_probabilities, columns=columns)\n",
    "    predictions.index.name = \"Id\"\n",
    "    if output_file_name == \"auto\":\n",
    "        timestr = time.strftime(\"%Y%m%d-%H%M%S\")\n",
    "        output_file_name = \"sf_crime_test_predictions_\" + timestr + \".csv\"\n",
    "    if decimal_limit:\n",
    "        decimal_limit = '%%.%df' % decimal_limit\n",
    "    predictions.to_csv(output_file_name, float_format=decimal_limit)\n",
    "    print(\"Finished writing file: \", output_file_name)"
   ]
  },
  {
   "cell_type": "code",
   "execution_count": 4,
   "metadata": {
    "collapsed": true
   },
   "outputs": [],
   "source": [
    "# Read in training data and shuffle it\n",
    "X = pd.read_csv(\"../../data/train.csv\")\n",
    "X = X.sample(frac=1, random_state=42).reset_index(drop=True)"
   ]
  },
  {
   "cell_type": "code",
   "execution_count": 5,
   "metadata": {
    "collapsed": false
   },
   "outputs": [
    {
     "data": {
      "text/html": [
       "<div>\n",
       "<table border=\"1\" class=\"dataframe\">\n",
       "  <thead>\n",
       "    <tr style=\"text-align: right;\">\n",
       "      <th></th>\n",
       "      <th>Dates</th>\n",
       "      <th>Category</th>\n",
       "      <th>Descript</th>\n",
       "      <th>DayOfWeek</th>\n",
       "      <th>PdDistrict</th>\n",
       "      <th>Resolution</th>\n",
       "      <th>Address</th>\n",
       "      <th>X</th>\n",
       "      <th>Y</th>\n",
       "    </tr>\n",
       "  </thead>\n",
       "  <tbody>\n",
       "    <tr>\n",
       "      <th>0</th>\n",
       "      <td>2010-07-04 23:00:00</td>\n",
       "      <td>LARCENY/THEFT</td>\n",
       "      <td>ATTEMPTED GRAND THEFT FROM PERSON</td>\n",
       "      <td>Sunday</td>\n",
       "      <td>TENDERLOIN</td>\n",
       "      <td>NONE</td>\n",
       "      <td>100 Block of POWELL ST</td>\n",
       "      <td>-122.407878</td>\n",
       "      <td>37.785968</td>\n",
       "    </tr>\n",
       "    <tr>\n",
       "      <th>1</th>\n",
       "      <td>2004-06-26 22:43:00</td>\n",
       "      <td>ASSAULT</td>\n",
       "      <td>BATTERY OF A POLICE OFFICER</td>\n",
       "      <td>Saturday</td>\n",
       "      <td>PARK</td>\n",
       "      <td>ARREST, BOOKED</td>\n",
       "      <td>2400 Block of GEARY BL</td>\n",
       "      <td>-122.443597</td>\n",
       "      <td>37.782644</td>\n",
       "    </tr>\n",
       "    <tr>\n",
       "      <th>2</th>\n",
       "      <td>2013-02-09 21:26:00</td>\n",
       "      <td>OTHER OFFENSES</td>\n",
       "      <td>VIOLATION OF MUNICIPAL CODE</td>\n",
       "      <td>Saturday</td>\n",
       "      <td>SOUTHERN</td>\n",
       "      <td>ARREST, CITED</td>\n",
       "      <td>HOWARD ST / 3RD ST</td>\n",
       "      <td>-122.400474</td>\n",
       "      <td>37.785029</td>\n",
       "    </tr>\n",
       "    <tr>\n",
       "      <th>3</th>\n",
       "      <td>2006-12-03 22:30:00</td>\n",
       "      <td>WEAPON LAWS</td>\n",
       "      <td>POSS OF PROHIBITED WEAPON</td>\n",
       "      <td>Sunday</td>\n",
       "      <td>NORTHERN</td>\n",
       "      <td>ARREST, CITED</td>\n",
       "      <td>VANNESS AV / HAYES ST</td>\n",
       "      <td>-122.419698</td>\n",
       "      <td>37.777301</td>\n",
       "    </tr>\n",
       "    <tr>\n",
       "      <th>4</th>\n",
       "      <td>2014-09-21 08:45:00</td>\n",
       "      <td>LARCENY/THEFT</td>\n",
       "      <td>PETTY THEFT FROM UNLOCKED AUTO</td>\n",
       "      <td>Sunday</td>\n",
       "      <td>PARK</td>\n",
       "      <td>NONE</td>\n",
       "      <td>BEULAH ST / SHRADER ST</td>\n",
       "      <td>-122.451488</td>\n",
       "      <td>37.767516</td>\n",
       "    </tr>\n",
       "  </tbody>\n",
       "</table>\n",
       "</div>"
      ],
      "text/plain": [
       "                 Dates        Category                           Descript  \\\n",
       "0  2010-07-04 23:00:00   LARCENY/THEFT  ATTEMPTED GRAND THEFT FROM PERSON   \n",
       "1  2004-06-26 22:43:00         ASSAULT        BATTERY OF A POLICE OFFICER   \n",
       "2  2013-02-09 21:26:00  OTHER OFFENSES        VIOLATION OF MUNICIPAL CODE   \n",
       "3  2006-12-03 22:30:00     WEAPON LAWS          POSS OF PROHIBITED WEAPON   \n",
       "4  2014-09-21 08:45:00   LARCENY/THEFT     PETTY THEFT FROM UNLOCKED AUTO   \n",
       "\n",
       "  DayOfWeek  PdDistrict      Resolution                 Address           X  \\\n",
       "0    Sunday  TENDERLOIN            NONE  100 Block of POWELL ST -122.407878   \n",
       "1  Saturday        PARK  ARREST, BOOKED  2400 Block of GEARY BL -122.443597   \n",
       "2  Saturday    SOUTHERN   ARREST, CITED      HOWARD ST / 3RD ST -122.400474   \n",
       "3    Sunday    NORTHERN   ARREST, CITED   VANNESS AV / HAYES ST -122.419698   \n",
       "4    Sunday        PARK            NONE  BEULAH ST / SHRADER ST -122.451488   \n",
       "\n",
       "           Y  \n",
       "0  37.785968  \n",
       "1  37.782644  \n",
       "2  37.785029  \n",
       "3  37.777301  \n",
       "4  37.767516  "
      ]
     },
     "execution_count": 5,
     "metadata": {},
     "output_type": "execute_result"
    }
   ],
   "source": [
    "X.head()"
   ]
  },
  {
   "cell_type": "code",
   "execution_count": 6,
   "metadata": {
    "collapsed": false
   },
   "outputs": [],
   "source": [
    "# Do stateless transformations first\n",
    "X = DuplicateCrimeCounts().fit_transform(X)\n",
    "X = BasicFeatures().fit_transform(X)\n",
    "\n",
    "# Pop off target variable and convert to integer representation\n",
    "y = X.pop('Category')\n",
    "labels = LabelEncoder()\n",
    "y = labels.fit_transform(y)\n",
    "\n",
    "# Keep only the numeric features\n",
    "X = JustNumerics().fit_transform(X)"
   ]
  },
  {
   "cell_type": "code",
   "execution_count": 7,
   "metadata": {
    "collapsed": false
   },
   "outputs": [
    {
     "data": {
      "text/html": [
       "<div>\n",
       "<table border=\"1\" class=\"dataframe\">\n",
       "  <thead>\n",
       "    <tr style=\"text-align: right;\">\n",
       "      <th></th>\n",
       "      <th>X</th>\n",
       "      <th>Y</th>\n",
       "      <th>crime_count</th>\n",
       "      <th>Year</th>\n",
       "      <th>Month</th>\n",
       "      <th>Hour</th>\n",
       "      <th>Minute</th>\n",
       "      <th>DayOfWeekNum</th>\n",
       "      <th>IsWeekend</th>\n",
       "      <th>PdDistrictNum</th>\n",
       "      <th>Intersection</th>\n",
       "      <th>Interaction</th>\n",
       "      <th>Holiday</th>\n",
       "    </tr>\n",
       "  </thead>\n",
       "  <tbody>\n",
       "    <tr>\n",
       "      <th>0</th>\n",
       "      <td>-122.407878</td>\n",
       "      <td>37.785968</td>\n",
       "      <td>2</td>\n",
       "      <td>2010</td>\n",
       "      <td>7</td>\n",
       "      <td>23</td>\n",
       "      <td>0</td>\n",
       "      <td>5</td>\n",
       "      <td>1</td>\n",
       "      <td>9</td>\n",
       "      <td>0</td>\n",
       "      <td>0.015886</td>\n",
       "      <td>1</td>\n",
       "    </tr>\n",
       "    <tr>\n",
       "      <th>1</th>\n",
       "      <td>-122.443597</td>\n",
       "      <td>37.782644</td>\n",
       "      <td>1</td>\n",
       "      <td>2004</td>\n",
       "      <td>6</td>\n",
       "      <td>22</td>\n",
       "      <td>43</td>\n",
       "      <td>4</td>\n",
       "      <td>1</td>\n",
       "      <td>5</td>\n",
       "      <td>0</td>\n",
       "      <td>-0.017584</td>\n",
       "      <td>0</td>\n",
       "    </tr>\n",
       "    <tr>\n",
       "      <th>2</th>\n",
       "      <td>-122.400474</td>\n",
       "      <td>37.785029</td>\n",
       "      <td>1</td>\n",
       "      <td>2013</td>\n",
       "      <td>2</td>\n",
       "      <td>21</td>\n",
       "      <td>26</td>\n",
       "      <td>4</td>\n",
       "      <td>1</td>\n",
       "      <td>7</td>\n",
       "      <td>1</td>\n",
       "      <td>0.022367</td>\n",
       "      <td>0</td>\n",
       "    </tr>\n",
       "    <tr>\n",
       "      <th>3</th>\n",
       "      <td>-122.419698</td>\n",
       "      <td>37.777301</td>\n",
       "      <td>2</td>\n",
       "      <td>2006</td>\n",
       "      <td>12</td>\n",
       "      <td>22</td>\n",
       "      <td>30</td>\n",
       "      <td>5</td>\n",
       "      <td>1</td>\n",
       "      <td>4</td>\n",
       "      <td>1</td>\n",
       "      <td>0.001322</td>\n",
       "      <td>0</td>\n",
       "    </tr>\n",
       "    <tr>\n",
       "      <th>4</th>\n",
       "      <td>-122.451488</td>\n",
       "      <td>37.767516</td>\n",
       "      <td>1</td>\n",
       "      <td>2014</td>\n",
       "      <td>9</td>\n",
       "      <td>8</td>\n",
       "      <td>45</td>\n",
       "      <td>5</td>\n",
       "      <td>1</td>\n",
       "      <td>5</td>\n",
       "      <td>1</td>\n",
       "      <td>0.007295</td>\n",
       "      <td>0</td>\n",
       "    </tr>\n",
       "  </tbody>\n",
       "</table>\n",
       "</div>"
      ],
      "text/plain": [
       "            X          Y  crime_count  Year  Month  Hour  Minute  \\\n",
       "0 -122.407878  37.785968            2  2010      7    23       0   \n",
       "1 -122.443597  37.782644            1  2004      6    22      43   \n",
       "2 -122.400474  37.785029            1  2013      2    21      26   \n",
       "3 -122.419698  37.777301            2  2006     12    22      30   \n",
       "4 -122.451488  37.767516            1  2014      9     8      45   \n",
       "\n",
       "   DayOfWeekNum  IsWeekend  PdDistrictNum  Intersection  Interaction  Holiday  \n",
       "0             5          1              9             0     0.015886        1  \n",
       "1             4          1              5             0    -0.017584        0  \n",
       "2             4          1              7             1     0.022367        0  \n",
       "3             5          1              4             1     0.001322        0  \n",
       "4             5          1              5             1     0.007295        0  "
      ]
     },
     "execution_count": 7,
     "metadata": {},
     "output_type": "execute_result"
    }
   ],
   "source": [
    "X.head()"
   ]
  },
  {
   "cell_type": "code",
   "execution_count": 8,
   "metadata": {
    "collapsed": false
   },
   "outputs": [
    {
     "name": "stdout",
     "output_type": "stream",
     "text": [
      "CPU times: user 1h 29min 1s, sys: 13.4 s, total: 1h 29min 15s\n",
      "Wall time: 2min 32s\n"
     ]
    }
   ],
   "source": [
    "%%time\n",
    "clf = RandomForestClassifier(n_estimators=1000, max_depth=None, min_samples_split=30, min_samples_leaf=10, n_jobs=-1)#, oob_score=True)\n",
    "clf.fit(X, y)\n",
    "# print(log_loss(y, clf.oob_decision_function_))"
   ]
  },
  {
   "cell_type": "code",
   "execution_count": 9,
   "metadata": {
    "collapsed": false
   },
   "outputs": [
    {
     "data": {
      "text/plain": [
       "<matplotlib.axes._subplots.AxesSubplot at 0x7f3ea21a7c18>"
      ]
     },
     "execution_count": 9,
     "metadata": {},
     "output_type": "execute_result"
    },
    {
     "data": {
      "image/png": "[encoded data removed]",
      "text/plain": [
       "<matplotlib.figure.Figure at 0x7f3ea21a70b8>"
      ]
     },
     "metadata": {},
     "output_type": "display_data"
    }
   ],
   "source": [
    "pd.Series(clf.feature_importances_, X.columns).plot(kind=\"barh\")"
   ]
  },
  {
   "cell_type": "code",
   "execution_count": 10,
   "metadata": {
    "collapsed": true
   },
   "outputs": [],
   "source": [
    "X_predict = pd.read_csv(\"../../data/test.csv\")\n",
    "X_predict = DuplicateCrimeCounts().fit_transform(X_predict)\n",
    "X_predict = BasicFeatures().fit_transform(X_predict)\n",
    "X_predict = JustNumerics().fit_transform(X_predict)\n",
    "X_predict.drop([\"Id\"], axis=1, inplace=True)"
   ]
  },
  {
   "cell_type": "code",
   "execution_count": 11,
   "metadata": {
    "collapsed": false
   },
   "outputs": [],
   "source": [
    "final_predictions = make_predictions(X_predict, clf)"
   ]
  },
  {
   "cell_type": "code",
   "execution_count": 12,
   "metadata": {
    "collapsed": false
   },
   "outputs": [
    {
     "name": "stdout",
     "output_type": "stream",
     "text": [
      "Finished writing file:  sf_crime_test_predictions_20160424-100641.csv\n",
      "CPU times: user 50.8 s, sys: 548 ms, total: 51.3 s\n",
      "Wall time: 51.4 s\n"
     ]
    }
   ],
   "source": [
    "%%time\n",
    "# Export predictions to file to be submitted to Kaggle\n",
    "make_Kaggle_file(final_predictions, labels.classes_, decimal_limit=5)"
   ]
  },
  {
   "cell_type": "markdown",
   "metadata": {},
   "source": [
    "# Grid search used to find appropriate hyperparameters"
   ]
  },
  {
   "cell_type": "code",
   "execution_count": 4,
   "metadata": {
    "collapsed": false
   },
   "outputs": [],
   "source": [
    "percent_of_data_to_use = .05\n",
    "\n",
    "# Read in training data\n",
    "X = pd.read_csv(\"../../data/train.csv\")\n",
    "\n",
    "# Do stateless transformations first\n",
    "X = DuplicateCrimeCounts().fit_transform(X)\n",
    "X = BasicFeatures().fit_transform(X)\n",
    "\n",
    "# Shuffle the dataset\n",
    "X = X.sample(frac=percent_of_data_to_use, random_state=42).reset_index(drop=True)\n",
    "y = X.pop('Category')\n",
    "\n",
    "# Convert y labels to integer representations\n",
    "labels = LabelEncoder()\n",
    "y = labels.fit_transform(y)"
   ]
  },
  {
   "cell_type": "code",
   "execution_count": 5,
   "metadata": {
    "collapsed": false
   },
   "outputs": [
    {
     "name": "stdout",
     "output_type": "stream",
     "text": [
      "CPU times: user 15.4 s, sys: 384 ms, total: 15.8 s\n",
      "Wall time: 45.1 s\n"
     ]
    }
   ],
   "source": [
    "%%time\n",
    "\n",
    "# This seed is required for each gridsearch to be identical\n",
    "np.random.seed(1)\n",
    "\n",
    "# Define the ML pipe\n",
    "pipe = Pipeline([(\"BFE\", BasicFeatures()), \n",
    "                 (\"just_numerics\", JustNumerics()), \n",
    "#                  (\"PCA\", PCATransform()), \n",
    "#                  (\"LR_feature\", ModelBasedFeatures(LogisticRegression(), feature_name=\"LR_feature\", train_cv=2)),\n",
    "#                  (\"RF_feature\", ModelBasedFeatures(model=RandomForestClassifier(), feature_name=\"RF_feature\", train_cv=2)),\n",
    "                 (\"RF\", RandomForestClassifier(n_jobs=1))])\n",
    "\n",
    "PCA_factor = .6\n",
    "\n",
    "params = {\n",
    "          \"BFE__date_features\": sp_randint(0, 2),\n",
    "          \"BFE__DayOfWeek_features\": sp_randint(0, 2),\n",
    "          \"BFE__PdDistrict_features\": sp_randint(0, 2),\n",
    "          \"BFE__Address_features\": sp_randint(0, 2),\n",
    "          \"BFE__Interaction_feature\": sp_randint(0, 2),\n",
    "#           \"PCA__n_components\": sp_uniform(PCA_factor, 1-PCA_factor),\n",
    "#           \"PCA__skip\": sp_randint(0, 2),\n",
    "#           \"PCA__standard_scalar\": sp_randint(0, 2),\n",
    "#           \"RF_feature__skip\": sp_randint(0, 2),\n",
    "#           \"LR_feature__skip\": sp_randint(0, 2),\n",
    "          \"RF__n_estimators\": sp_randint(25, 200),\n",
    "          \"RF__max_depth\": sp_randint(10, 100),\n",
    "          \"RF__min_samples_split\": sp_randint(15, 65),\n",
    "          \"RF__min_samples_leaf\": sp_randint(1, 70),\n",
    "          \"RF__max_leaf_nodes\": sp_randint(2000, 7000),\n",
    "          \"RF__max_features\": [\"auto\", .25, .5, .3]\n",
    "         }\n",
    "\n",
    "fit_params = {\n",
    "#               \"RF_feature__n_estimators\": sp_randint(5, 10),\n",
    "#               \"RF_feature__max_depth\": sp_randint(5, 10),\n",
    "#               \"LR_feature__C\": sp_expon(4, 20)\n",
    "             }\n",
    "\n",
    "gridsearch = RandomizedSearchCV(pipe, params, fit_params=None, n_iter=50, scoring=\"log_loss\", cv=2, n_jobs=-1)\n",
    "gridsearch.fit(X, y)"
   ]
  },
  {
   "cell_type": "code",
   "execution_count": 6,
   "metadata": {
    "collapsed": false,
    "scrolled": false
   },
   "outputs": [
    {
     "name": "stdout",
     "output_type": "stream",
     "text": [
      "Best score: -2.31994352368 \n",
      "\n",
      "\n"
     ]
    },
    {
     "data": {
      "image/png": "[encoded data removed]",
      "text/plain": [
       "<matplotlib.figure.Figure at 0x7ff740d4ac88>"
      ]
     },
     "metadata": {},
     "output_type": "display_data"
    },
    {
     "data": {
      "image/png": "[encoded data removed]",
      "text/plain": [
       "<matplotlib.figure.Figure at 0x7ff73c4fab38>"
      ]
     },
     "metadata": {},
     "output_type": "display_data"
    },
    {
     "data": {
      "image/png": "[encoded data removed]",
      "text/plain": [
       "<matplotlib.figure.Figure at 0x7ff73ecaca20>"
      ]
     },
     "metadata": {},
     "output_type": "display_data"
    },
    {
     "data": {
      "image/png": "[encoded data removed]",
      "text/plain": [
       "<matplotlib.figure.Figure at 0x7ff73ec11518>"
      ]
     },
     "metadata": {},
     "output_type": "display_data"
    },
    {
     "data": {
      "image/png": "[encoded data removed]",
      "text/plain": [
       "<matplotlib.figure.Figure at 0x7ff73ec094a8>"
      ]
     },
     "metadata": {},
     "output_type": "display_data"
    },
    {
     "data": {
      "image/png": "[encoded data removed]",
      "text/plain": [
       "<matplotlib.figure.Figure at 0x7ff73eb6b630>"
      ]
     },
     "metadata": {},
     "output_type": "display_data"
    },
    {
     "data": {
      "image/png": "[encoded data removed]",
      "text/plain": [
       "<matplotlib.figure.Figure at 0x7ff73eb81898>"
      ]
     },
     "metadata": {},
     "output_type": "display_data"
    },
    {
     "data": {
      "image/png": "[encoded data removed]",
      "text/plain": [
       "<matplotlib.figure.Figure at 0x7ff73ebd0320>"
      ]
     },
     "metadata": {},
     "output_type": "display_data"
    },
    {
     "data": {
      "image/png": "[encoded data removed]",
      "text/plain": [
       "<matplotlib.figure.Figure at 0x7ff73ec7fb00>"
      ]
     },
     "metadata": {},
     "output_type": "display_data"
    },
    {
     "data": {
      "image/png": "[encoded data removed]",
      "text/plain": [
       "<matplotlib.figure.Figure at 0x7ff73e9e0be0>"
      ]
     },
     "metadata": {},
     "output_type": "display_data"
    },
    {
     "data": {
      "image/png": "[encoded data removed]",
      "text/plain": [
       "<matplotlib.figure.Figure at 0x7ff73e9b4c88>"
      ]
     },
     "metadata": {},
     "output_type": "display_data"
    }
   ],
   "source": [
    "print(\"Best score:\", gridsearch.best_score_, \"\\n\")\n",
    "print(\"\")\n",
    "\n",
    "gridsearch_parameter_results(gridsearch)"
   ]
  }
 ],
 "metadata": {
  "kernelspec": {
   "display_name": "Python 3",
   "language": "python",
   "name": "python3"
  },
  "language_info": {
   "codemirror_mode": {
    "name": "ipython",
    "version": 3
   },
   "file_extension": ".py",
   "mimetype": "text/x-python",
   "name": "python",
   "nbconvert_exporter": "python",
   "pygments_lexer": "ipython3",
   "version": "3.5.1"
  }
 },
 "nbformat": 4,
 "nbformat_minor": 0
}
