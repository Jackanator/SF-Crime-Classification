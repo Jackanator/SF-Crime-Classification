{
 "cells": [
  {
   "cell_type": "code",
   "execution_count": 17,
   "metadata": {
    "collapsed": false
   },
   "outputs": [
    {
     "name": "stdout",
     "output_type": "stream",
     "text": [
      "The slowest run took 4.88 times longer than the fastest. This could mean that an intermediate result is being cached \n",
      "100000 loops, best of 3: 13 µs per loop\n",
      "100000 loops, best of 3: 2.53 µs per loop\n"
     ]
    }
   ],
   "source": [
    "import os\n",
    "import sys\n",
    "import string\n",
    "import warnings\n",
    "import numpy as NP\n",
    "from functools import partial\n",
    "\n",
    "def levenshtein_dist(w1, w2, LuT):\n",
    "\t'''\n",
    "\treturns: levenshtein distance as int\n",
    "\tpass in: two words as python strings;\n",
    "\tthis fn for the easy case in which word lengths are equal;\n",
    "\t'''\n",
    "\tlw1, lw2 = len(w1), len(w2)\n",
    "\tif lw1 != lw2:\n",
    "\t\treturn 'the two words do not have equal length'\n",
    "\n",
    "\tw1, w2 = w1.lower(), w2.lower()\n",
    "\tt1 = NP.array([LuT[chr] for chr in w1])\n",
    "\tt2 = NP.array([LuT[chr] for chr in w2])\n",
    "\ttdiff = t2 - t1\n",
    "\treturn NP.where(tdiff==0, 0, 1).sum()\n",
    "\n",
    "\n",
    "p_levenshtein_dist = partial(levenshtein_dist,\n",
    "\tLuT = {k:v for v, k in enumerate(string.ascii_lowercase)})\n",
    "\n",
    "\n",
    "%timeit p_levenshtein_dist('thebestandbrightestfly', 'flythebestandbrightest')\n",
    "\n",
    "\n",
    "def p_levenshtein_dist(w1, w2):\n",
    "    return sum([1 for char1, char2 in zip(w1, w2) if char1 != char2])\n",
    "\n",
    "\n",
    "\n",
    "%timeit p_levenshtein_dist('thebestandbrightestfly', 'flythebestandbrightest')"
   ]
  }
 ],
 "metadata": {
  "kernelspec": {
   "display_name": "Python 3",
   "language": "python",
   "name": "python3"
  },
  "language_info": {
   "codemirror_mode": {
    "name": "ipython",
    "version": 3
   },
   "file_extension": ".py",
   "mimetype": "text/x-python",
   "name": "python",
   "nbconvert_exporter": "python",
   "pygments_lexer": "ipython3",
   "version": "3.5.1"
  }
 },
 "nbformat": 4,
 "nbformat_minor": 0
}
