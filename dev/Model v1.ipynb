{
 "cells": [
  {
   "cell_type": "code",
   "execution_count": 35,
   "metadata": {
    "collapsed": true
   },
   "outputs": [],
   "source": [
    "#Import libraries\n",
    "from datetime import datetime\n",
    "import pandas as pd\n",
    "import numpy as np\n",
    "import scipy as sp\n",
    "import matplotlib.pyplot as plt\n",
    "from sklearn import preprocessing\n",
    "from sklearn.metrics import log_loss\n",
    "from sklearn.preprocessing import StandardScaler\n",
    "from sklearn.neighbors import KNeighborsClassifier\n",
    "from sklearn.ensemble import RandomForestClassifier"
   ]
  },
  {
   "cell_type": "code",
   "execution_count": 36,
   "metadata": {
    "collapsed": true
   },
   "outputs": [],
   "source": [
    "crime = pd.read_csv(\"../../data/train.csv\")"
   ]
  },
  {
   "cell_type": "code",
   "execution_count": 39,
   "metadata": {
    "collapsed": false
   },
   "outputs": [],
   "source": [
    "#Recode weekday variable\n",
    "weekday_mapping =  {'Monday': 1,\n",
    "                    'Tuesday': 2,\n",
    "                    'Wednesday': 3,\n",
    "                    'Thursday': 4,\n",
    "                    'Friday': 5,\n",
    "                    'Saturday': 6,\n",
    "                    'Sunday': 7}\n",
    "crime['DayOfWeek']=crime['DayOfWeek'].map(weekday_mapping)\n",
    "\n",
    "#Recode PdDistrict variable\n",
    "enc = preprocessing.LabelEncoder()\n",
    "district = enc.fit_transform(crime.PdDistrict)\n",
    "address = enc.fit_transform(crime.Address)\n",
    "crime['District'] = district\n",
    "crime['AddressCode'] = address\n",
    "\n",
    "#Scale the coordinates variables\n",
    "#stdsc = StandardScaler()\n",
    "#crime['X_stdsc'] = stdsc.fit_transform(crime['X'])\n",
    "#crime['Y_stdsc'] = stdsc.fit_transform(crime['Y'])\n",
    "\n",
    "\n",
    "#Extract date and time information from 'Dates' variable\n",
    "crime['Dates'] = pd.to_datetime(crime['Dates'])\n",
    "crime['Year'] = crime['Dates'].dt.year\n",
    "crime['Month'] = crime['Dates'].dt.month\n",
    "crime['Day'] = crime['Dates'].dt.day\n",
    "crime['Hour'] = crime['Dates'].dt.hour\n",
    "crime['Minute'] = crime['Dates'].dt.minute\n",
    "\n",
    "# Set the randomizer seed so results are the same each time.\n",
    "np.random.seed(0)\n",
    "\n",
    "#Shuffle data\n",
    "crime = crime.reindex(np.random.permutation(crime.index))"
   ]
  },
  {
   "cell_type": "code",
   "execution_count": 38,
   "metadata": {
    "collapsed": false
   },
   "outputs": [
    {
     "name": "stdout",
     "output_type": "stream",
     "text": [
      "Accuracy:  0.322703497194\n",
      "Log loss(rolled):  3.25323830296\n",
      "Log loss:  2.35737891382\n"
     ]
    }
   ],
   "source": [
    "#Self-defined multiclass log loss function\n",
    "def llfun(act, pred):\n",
    "    epsilon = 1e-15\n",
    "    pred = sp.maximum(epsilon, pred)\n",
    "    pred = sp.minimum(1-epsilon, pred)\n",
    "    ll = sum(act*sp.log(pred) + sp.subtract(1,act)*sp.log(sp.subtract(1,pred)))\n",
    "    ll = ll * -1.0/len(act)\n",
    "    return ll\n",
    "\n",
    "X = crime[['Year', 'Month', 'Day', 'Hour', 'DayOfWeek', 'District', 'AddressCode', 'X','Y']]\n",
    "Y = crime.Category\n",
    "test_data, test_labels = X[710000:], Y[710000:]\n",
    "dev_data, dev_labels = X[700000:710000], Y[700000:710000]\n",
    "train_data, train_labels = X[:700000], Y[:700000]\n",
    "\n",
    "def RF():\n",
    "    #Random forest \n",
    "    rf = RandomForestClassifier(n_estimators=100, max_depth=20)\n",
    "    rf.fit(train_data, train_labels)\n",
    "    rf_prob = rf.predict_proba(test_data)\n",
    "    \n",
    "    #Set labels to dummy format\n",
    "    test_labels_long = pd.get_dummies(test_labels)\n",
    "    test_labels_long = pd.DataFrame.as_matrix(test_labels_long)\n",
    "    logloss_rolled = llfun(test_labels_long, rf_prob)\n",
    "    logloss = log_loss(test_labels_long, rf_prob)    \n",
    "    \n",
    "    #Compare results from self-defined log loss function and one from sklearn.metrics\n",
    "    print ('Accuracy: ' ,rf.score(test_data,test_labels))\n",
    "    print ('Log loss(rolled): ', sum(logloss_rolled))\n",
    "    print ('Log loss: ', logloss)    \n",
    "    \n",
    "RF()"
   ]
  },
  {
   "cell_type": "code",
   "execution_count": null,
   "metadata": {
    "collapsed": true
   },
   "outputs": [],
   "source": []
  }
 ],
 "metadata": {
  "kernelspec": {
   "display_name": "Python 3",
   "language": "python",
   "name": "python3"
  },
  "language_info": {
   "codemirror_mode": {
    "name": "ipython",
    "version": 3
   },
   "file_extension": ".py",
   "mimetype": "text/x-python",
   "name": "python",
   "nbconvert_exporter": "python",
   "pygments_lexer": "ipython3",
   "version": "3.5.1"
  }
 },
 "nbformat": 4,
 "nbformat_minor": 0
}
